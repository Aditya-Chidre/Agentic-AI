{
 "cells": [
  {
   "cell_type": "code",
   "execution_count": 1,
   "id": "5947bd60",
   "metadata": {},
   "outputs": [],
   "source": [
    "def function1(input1):\n",
    "    return input1+\" from fn1\""
   ]
  },
  {
   "cell_type": "code",
   "execution_count": 2,
   "id": "7cb33caa",
   "metadata": {},
   "outputs": [],
   "source": [
    "def function2(input2):\n",
    "    return input2+ \" from fn2\""
   ]
  },
  {
   "cell_type": "code",
   "execution_count": 3,
   "id": "4f7b0546",
   "metadata": {},
   "outputs": [],
   "source": [
    "def function3(input3):\n",
    "    return input3+\" from fn3\""
   ]
  },
  {
   "cell_type": "code",
   "execution_count": 5,
   "id": "69cf1534",
   "metadata": {},
   "outputs": [
    {
     "data": {
      "text/plain": [
       "<langgraph.graph.graph.Graph at 0x1c91d4b72b0>"
      ]
     },
     "execution_count": 5,
     "metadata": {},
     "output_type": "execute_result"
    }
   ],
   "source": [
    "from langgraph.graph import Graph\n",
    "workflow1 = Graph()\n",
    "workflow1.add_node(\"fun1\",function1)\n",
    "workflow1.add_node(\"fun2\",function2)"
   ]
  },
  {
   "cell_type": "code",
   "execution_count": 6,
   "id": "4780b5c7",
   "metadata": {},
   "outputs": [
    {
     "data": {
      "text/plain": [
       "<langgraph.graph.graph.Graph at 0x1c91d4b72b0>"
      ]
     },
     "execution_count": 6,
     "metadata": {},
     "output_type": "execute_result"
    }
   ],
   "source": [
    "workflow1.add_edge(\"fun1\",\"fun2\")"
   ]
  },
  {
   "cell_type": "code",
   "execution_count": 8,
   "id": "4fe13340",
   "metadata": {},
   "outputs": [
    {
     "data": {
      "text/plain": [
       "<langgraph.graph.graph.Graph at 0x1c91d4b72b0>"
      ]
     },
     "execution_count": 8,
     "metadata": {},
     "output_type": "execute_result"
    }
   ],
   "source": [
    "workflow1.set_entry_point(\"fun1\")\n",
    "workflow1.set_finish_point(\"fun2\")"
   ]
  },
  {
   "cell_type": "code",
   "execution_count": 9,
   "id": "25ff256d",
   "metadata": {},
   "outputs": [],
   "source": [
    "app = workflow1.compile()"
   ]
  },
  {
   "cell_type": "code",
   "execution_count": 10,
   "id": "0d78a6b7",
   "metadata": {},
   "outputs": [
    {
     "data": {
      "image/png": "[encoded data removed]",
      "text/plain": [
       "<IPython.core.display.Image object>"
      ]
     },
     "metadata": {},
     "output_type": "display_data"
    }
   ],
   "source": [
    "from IPython.display import Image, display\n",
    "display(Image(app.get_graph().draw_mermaid_png()))"
   ]
  },
  {
   "cell_type": "code",
   "execution_count": 11,
   "id": "38fae7cf",
   "metadata": {},
   "outputs": [
    {
     "data": {
      "text/plain": [
       "'hi from fn1 from fn2'"
      ]
     },
     "execution_count": 11,
     "metadata": {},
     "output_type": "execute_result"
    }
   ],
   "source": [
    "app.invoke(\"hi\")"
   ]
  },
  {
   "cell_type": "code",
   "execution_count": 18,
   "id": "f6222672",
   "metadata": {},
   "outputs": [],
   "source": [
    "workflow2 = Graph()"
   ]
  },
  {
   "cell_type": "code",
   "execution_count": 19,
   "id": "e1cf8ca8",
   "metadata": {},
   "outputs": [],
   "source": [
    "def llm(input):\n",
    "    from langchain_google_genai import ChatGoogleGenerativeAI\n",
    "    model = ChatGoogleGenerativeAI(model=\"gemini-2.0-flash\")\n",
    "    output = model.invoke(input)\n",
    "    return output.content\n",
    "def token_counter(input):\n",
    "    token=input.split()\n",
    "    token_number=len(token)\n",
    "    return f\"total token number in the generated answer is {token_number}\""
   ]
  },
  {
   "cell_type": "code",
   "execution_count": 20,
   "id": "e534341d",
   "metadata": {},
   "outputs": [],
   "source": [
    "workflow2.add_node(\"LLM\",llm)\n",
    "workflow2.add_node(\"Output_token_counter\",token_counter)\n",
    "workflow2.add_edge(\"LLM\",\"Output_token_counter\")\n",
    "workflow2.set_entry_point(\"LLM\")\n",
    "workflow2.set_finish_point(\"Output_token_counter\")\n",
    "app1 = workflow2.compile()"
   ]
  },
  {
   "cell_type": "code",
   "execution_count": 21,
   "id": "8fe74579",
   "metadata": {},
   "outputs": [
    {
     "name": "stderr",
     "output_type": "stream",
     "text": [
      "d:\\Python\\CODE\\venv\\lib\\site-packages\\tqdm\\auto.py:21: TqdmWarning: IProgress not found. Please update jupyter and ipywidgets. See https://ipywidgets.readthedocs.io/en/stable/user_install.html\n",
      "  from .autonotebook import tqdm as notebook_tqdm\n"
     ]
    },
    {
     "data": {
      "text/plain": [
       "'total token number in the generated answer is 1927'"
      ]
     },
     "execution_count": 21,
     "metadata": {},
     "output_type": "execute_result"
    }
   ],
   "source": [
    "app1.invoke(\"tell me in detail about machine learning\")"
   ]
  },
  {
   "cell_type": "code",
   "execution_count": 22,
   "id": "373fcf6c",
   "metadata": {},
   "outputs": [
    {
     "data": {
      "image/png": "[encoded data removed]",
      "text/plain": [
       "<IPython.core.display.Image object>"
      ]
     },
     "metadata": {},
     "output_type": "display_data"
    }
   ],
   "source": [
    "from IPython.display import Image, display\n",
    "display(Image(app1.get_graph().draw_mermaid_png()))"
   ]
  },
  {
   "cell_type": "code",
   "execution_count": 25,
   "id": "27258332",
   "metadata": {},
   "outputs": [
    {
     "name": "stdout",
     "output_type": "stream",
     "text": [
      "here is output from LLM\n",
      "Machine learning (ML) uses algorithms to learn from data and make predictions without explicit programming. It identifies patterns and builds models to perform tasks like classification, regression, and clustering. Common applications include image recognition, spam filtering, and personalized recommendations. ML algorithms improve with more data, enabling systems to adapt and automate complex decisions.\n",
      "_______\n",
      "\n",
      "\n",
      "here is output from Output_token_counter\n",
      "total token number in the generated answer is 53\n",
      "_______\n",
      "\n",
      "\n"
     ]
    }
   ],
   "source": [
    "for output in app1.stream(\"tell me something about ML in 100 tokens\"):\n",
    "    for key,value in output.items():\n",
    "        print(f\"here is output from {key}\")\n",
    "        \n",
    "        print(value)\n",
    "        print(\"_______\")\n",
    "        print(\"\\n\")\n",
    "    "
   ]
  },
  {
   "cell_type": "code",
   "execution_count": null,
   "id": "d4b93004",
   "metadata": {},
   "outputs": [],
   "source": []
  }
 ],
 "metadata": {
  "kernelspec": {
   "display_name": "Python 3",
   "language": "python",
   "name": "python3"
  },
  "language_info": {
   "codemirror_mode": {
    "name": "ipython",
    "version": 3
   },
   "file_extension": ".py",
   "mimetype": "text/x-python",
   "name": "python",
   "nbconvert_exporter": "python",
   "pygments_lexer": "ipython3",
   "version": "3.9.5"
  }
 },
 "nbformat": 4,
 "nbformat_minor": 5
}
