{
 "cells": [
  {
   "cell_type": "code",
   "execution_count": 1,
   "id": "71ece8de",
   "metadata": {},
   "outputs": [],
   "source": [
    "import os\n",
    "from dotenv import load_dotenv\n",
    "load_dotenv()\n",
    "groq_api_key=os.getenv(\"GROQ_API_KEY\")"
   ]
  },
  {
   "cell_type": "code",
   "execution_count": 2,
   "id": "e849ca5b",
   "metadata": {},
   "outputs": [],
   "source": [
    "model=\"deepseek-r1-distill-llama-70b\""
   ]
  },
  {
   "cell_type": "code",
   "execution_count": 3,
   "id": "3bc27958",
   "metadata": {},
   "outputs": [],
   "source": [
    "from langchain_groq import ChatGroq\n",
    "llm = ChatGroq(model=model)"
   ]
  },
  {
   "cell_type": "code",
   "execution_count": null,
   "id": "6ca2b69b",
   "metadata": {},
   "outputs": [],
   "source": [
    "from langgraph.graph import StateGraph,END,MessagesState,START\n",
    "from langgraph.graph.message import add_messages\n",
    "from langchain.tools import tool"
   ]
  },
  {
   "cell_type": "code",
   "execution_count": 5,
   "id": "cb98bae8",
   "metadata": {},
   "outputs": [],
   "source": [
    "def call_model(state:MessagesState):\n",
    "    \n",
    "    message = state['messages']\n",
    "    response = llm.invoke(message)\n",
    "    \n",
    "    return {\"messages\":[response]}"
   ]
  },
  {
   "cell_type": "code",
   "execution_count": 6,
   "id": "fbacf73f",
   "metadata": {},
   "outputs": [],
   "source": [
    "state = {'messages':\"hi\"}\n",
    "res=call_model(state)"
   ]
  },
  {
   "cell_type": "code",
   "execution_count": 7,
   "id": "7e896d21",
   "metadata": {},
   "outputs": [
    {
     "name": "stdout",
     "output_type": "stream",
     "text": [
      "<think>\n",
      "\n",
      "</think>\n",
      "\n",
      "Hello! How can I assist you today? 😊\n"
     ]
    }
   ],
   "source": [
    "print(res['messages'][0].content)"
   ]
  },
  {
   "cell_type": "code",
   "execution_count": 8,
   "id": "e79e61f8",
   "metadata": {},
   "outputs": [],
   "source": [
    "workflow = StateGraph(MessagesState)\n",
    "workflow.add_node(\"mybot\",call_model)\n",
    "workflow.add_edge(START,\"mybot\")\n",
    "workflow.add_edge(\"mybot\",END)\n",
    "app = workflow.compile()"
   ]
  },
  {
   "cell_type": "code",
   "execution_count": 9,
   "id": "c92b65b2",
   "metadata": {},
   "outputs": [
    {
     "data": {
      "image/png": "[encoded data removed]",
      "text/plain": [
       "<IPython.core.display.Image object>"
      ]
     },
     "metadata": {},
     "output_type": "display_data"
    }
   ],
   "source": [
    "from IPython.display import Image, display\n",
    "display(Image(app.get_graph().draw_mermaid_png()))"
   ]
  },
  {
   "cell_type": "code",
   "execution_count": 10,
   "id": "0add8bf7",
   "metadata": {},
   "outputs": [],
   "source": [
    "res = app.invoke({\"messages\":\"hi how are you\"})"
   ]
  },
  {
   "cell_type": "code",
   "execution_count": 11,
   "id": "65f11878",
   "metadata": {},
   "outputs": [
    {
     "data": {
      "text/plain": [
       "{'messages': [HumanMessage(content='hi how are you', additional_kwargs={}, response_metadata={}, id='6ed8032a-23a5-4ce2-902b-5c18192b29b6'),\n",
       "  AIMessage(content=\"<think>\\n\\n</think>\\n\\nHello! I'm just a virtual assistant, so I don't have feelings, but I'm here and ready to help you with whatever you need. How are *you* doing? 😊\", additional_kwargs={}, response_metadata={'token_usage': {'completion_tokens': 44, 'prompt_tokens': 7, 'total_tokens': 51, 'completion_time': 0.19273576, 'prompt_time': 0.000180678, 'queue_time': 0.056435792000000005, 'total_time': 0.192916438}, 'model_name': 'deepseek-r1-distill-llama-70b', 'system_fingerprint': 'fp_1bbe7845ec', 'finish_reason': 'stop', 'logprobs': None}, id='run--755cd372-7871-4a86-b6dc-92cbc9a0beff-0', usage_metadata={'input_tokens': 7, 'output_tokens': 44, 'total_tokens': 51})]}"
      ]
     },
     "execution_count": 11,
     "metadata": {},
     "output_type": "execute_result"
    }
   ],
   "source": [
    "res"
   ]
  },
  {
   "cell_type": "code",
   "execution_count": 12,
   "id": "5ef8cfd3",
   "metadata": {},
   "outputs": [
    {
     "name": "stdout",
     "output_type": "stream",
     "text": [
      "<think>\n",
      "\n",
      "</think>\n",
      "\n",
      "Hello! I'm just a virtual assistant, so I don't have feelings, but I'm here and ready to help you with whatever you need. How are *you* doing? 😊\n"
     ]
    }
   ],
   "source": [
    "print(res[\"messages\"][1].content)"
   ]
  },
  {
   "cell_type": "code",
   "execution_count": null,
   "id": "aa7736c6",
   "metadata": {},
   "outputs": [],
   "source": [
    "@tool\n",
    "def search(query:str):\n",
    "    \"\"\"This is custom tool searching weather\"\"\"\n",
    "    \n",
    "    if \"delhi\" in query.lower():\n",
    "        return \"the temperature is 19 degrees\"\n",
    "    else:\n",
    "        return \"it is sunny\""
   ]
  },
  {
   "cell_type": "code",
   "execution_count": 14,
   "id": "96f78de1",
   "metadata": {},
   "outputs": [
    {
     "data": {
      "text/plain": [
       "'the temperature is 19 degrees'"
      ]
     },
     "execution_count": 14,
     "metadata": {},
     "output_type": "execute_result"
    }
   ],
   "source": [
    "search.invoke(\"delhi\")"
   ]
  },
  {
   "cell_type": "code",
   "execution_count": 15,
   "id": "827d8e36",
   "metadata": {},
   "outputs": [
    {
     "data": {
      "text/plain": [
       "[StructuredTool(name='search', description='This is custom tool searching weather', args_schema=<class 'langchain_core.utils.pydantic.search'>, func=<function search at 0x000001C58C0F1280>)]"
      ]
     },
     "execution_count": 15,
     "metadata": {},
     "output_type": "execute_result"
    }
   ],
   "source": [
    "tools = [search]\n",
    "tools"
   ]
  },
  {
   "cell_type": "code",
   "execution_count": 16,
   "id": "367bca1e",
   "metadata": {},
   "outputs": [],
   "source": [
    "llm_with_tools = llm.bind_tools(tools)\n",
    "response = llm_with_tools.invoke(\"what is a weather in delhi\")"
   ]
  },
  {
   "cell_type": "code",
   "execution_count": 17,
   "id": "1a42242b",
   "metadata": {},
   "outputs": [
    {
     "data": {
      "text/plain": [
       "[{'name': 'search',\n",
       "  'args': {'query': 'weather in Delhi'},\n",
       "  'id': 'd108dqgg7',\n",
       "  'type': 'tool_call'}]"
      ]
     },
     "execution_count": 17,
     "metadata": {},
     "output_type": "execute_result"
    }
   ],
   "source": [
    "response.tool_calls"
   ]
  },
  {
   "cell_type": "code",
   "execution_count": 18,
   "id": "c1953a01",
   "metadata": {},
   "outputs": [],
   "source": [
    "def call_model(state:MessagesState):\n",
    "    question = state['messages']\n",
    "    response = llm_with_tools.invoke(question)\n",
    "    return {'messages':[response]}"
   ]
  },
  {
   "cell_type": "code",
   "execution_count": 25,
   "id": "d07e9835",
   "metadata": {},
   "outputs": [],
   "source": [
    "def router_function(state:MessagesState):\n",
    "    message = state['messages']\n",
    "    last_message = message[-1]\n",
    "    if last_message.tool_calls:\n",
    "        return \"tools\"\n",
    "    else:\n",
    "        return \"llm\""
   ]
  },
  {
   "cell_type": "code",
   "execution_count": 27,
   "id": "c08ab889",
   "metadata": {},
   "outputs": [],
   "source": [
    "def llm_call(state:MessagesState):\n",
    "    question = state['messages']\n",
    "    response = llm.invoke(question)\n",
    "    return response"
   ]
  },
  {
   "cell_type": "code",
   "execution_count": 28,
   "id": "6fe99735",
   "metadata": {},
   "outputs": [
    {
     "data": {
      "text/plain": [
       "<langgraph.graph.state.StateGraph at 0x1c58c293af0>"
      ]
     },
     "execution_count": 28,
     "metadata": {},
     "output_type": "execute_result"
    }
   ],
   "source": [
    "from langgraph.prebuilt import ToolNode\n",
    "tool_node = ToolNode(tools)\n",
    "\n",
    "workflow2 = StateGraph(MessagesState)\n",
    "workflow2.add_node(\"llm_with_tool\",call_model)\n",
    "workflow2.add_node(\"mytools\",tool_node)\n",
    "workflow2.add_node(\"llm\",llm_call)\n",
    "workflow2.add_edge(\"llm\",END)\n",
    "workflow2.add_edge(START, \"llm_with_tool\")\n",
    "workflow2.add_conditional_edges(\n",
    "\t\"llm_with_tool\",\n",
    "    router_function,\n",
    "    {\n",
    "\t\t\"tools\":\"mytools\",\n",
    "        \"llm\":\"llm\"\n",
    "\t}\n",
    ")"
   ]
  },
  {
   "cell_type": "code",
   "execution_count": 29,
   "id": "544df523",
   "metadata": {},
   "outputs": [
    {
     "data": {
      "image/png": "[encoded data removed]",
      "text/plain": [
       "<langgraph.graph.state.CompiledStateGraph object at 0x000001C58C077CD0>"
      ]
     },
     "execution_count": 29,
     "metadata": {},
     "output_type": "execute_result"
    }
   ],
   "source": [
    "workflow2.compile()"
   ]
  },
  {
   "cell_type": "code",
   "execution_count": 30,
   "id": "6d954e0b",
   "metadata": {},
   "outputs": [],
   "source": [
    "app2 = workflow2.compile()"
   ]
  },
  {
   "cell_type": "code",
   "execution_count": 31,
   "id": "2d7d4fc0",
   "metadata": {},
   "outputs": [
    {
     "data": {
      "text/plain": [
       "{'messages': [HumanMessage(content='what is temperature of delhi?', additional_kwargs={}, response_metadata={}, id='de4fa77e-c700-4b6c-b1f4-56de4cdbfdf1'),\n",
       "  AIMessage(content='', additional_kwargs={'tool_calls': [{'id': 'vsg2b6121', 'function': {'arguments': '{\"query\":\"temperature of Delhi\"}', 'name': 'search'}, 'type': 'function'}]}, response_metadata={'token_usage': {'completion_tokens': 223, 'prompt_tokens': 129, 'total_tokens': 352, 'completion_time': 0.96618025, 'prompt_time': 0.008339096, 'queue_time': 0.05617251399999999, 'total_time': 0.974519346}, 'model_name': 'deepseek-r1-distill-llama-70b', 'system_fingerprint': 'fp_1bbe7845ec', 'finish_reason': 'tool_calls', 'logprobs': None}, id='run--0bb951b5-ce49-4605-9f27-cebcc57995da-0', tool_calls=[{'name': 'search', 'args': {'query': 'temperature of Delhi'}, 'id': 'vsg2b6121', 'type': 'tool_call'}], usage_metadata={'input_tokens': 129, 'output_tokens': 223, 'total_tokens': 352}),\n",
       "  ToolMessage(content='the temperature is 19 degrees', name='search', id='e88623a5-a2cf-4dec-89f3-dc583faf7ef9', tool_call_id='vsg2b6121')]}"
      ]
     },
     "execution_count": 31,
     "metadata": {},
     "output_type": "execute_result"
    }
   ],
   "source": [
    "input={\"messages\":['what is temperature of delhi?']}\n",
    "app2.invoke(input)"
   ]
  },
  {
   "cell_type": "code",
   "execution_count": 33,
   "id": "9ab026ad",
   "metadata": {},
   "outputs": [
    {
     "data": {
      "text/plain": [
       "{'messages': [HumanMessage(content='hi', additional_kwargs={}, response_metadata={}, id='b7a3a431-fc9f-43df-acd2-4be1aff909e7'),\n",
       "  AIMessage(content='Hello! How can I assist you today?', additional_kwargs={}, response_metadata={'token_usage': {'completion_tokens': 79, 'prompt_tokens': 123, 'total_tokens': 202, 'completion_time': 0.377043868, 'prompt_time': 0.00803264, 'queue_time': 0.061041279999999996, 'total_time': 0.385076508}, 'model_name': 'deepseek-r1-distill-llama-70b', 'system_fingerprint': 'fp_1bbe7845ec', 'finish_reason': 'stop', 'logprobs': None}, id='run--42c482a8-d2dc-4020-ad0f-9b16e04f1919-0', usage_metadata={'input_tokens': 123, 'output_tokens': 79, 'total_tokens': 202})]}"
      ]
     },
     "execution_count": 33,
     "metadata": {},
     "output_type": "execute_result"
    }
   ],
   "source": [
    "input={\"messages\":['hi']}\n",
    "app2.invoke(input)"
   ]
  },
  {
   "cell_type": "code",
   "execution_count": null,
   "id": "a340cee4",
   "metadata": {},
   "outputs": [],
   "source": []
  }
 ],
 "metadata": {
  "kernelspec": {
   "display_name": "Python 3",
   "language": "python",
   "name": "python3"
  },
  "language_info": {
   "codemirror_mode": {
    "name": "ipython",
    "version": 3
   },
   "file_extension": ".py",
   "mimetype": "text/x-python",
   "name": "python",
   "nbconvert_exporter": "python",
   "pygments_lexer": "ipython3",
   "version": "3.9.5"
  }
 },
 "nbformat": 4,
 "nbformat_minor": 5
}
