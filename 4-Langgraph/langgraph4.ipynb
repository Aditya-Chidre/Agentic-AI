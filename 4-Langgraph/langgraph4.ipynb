{
 "cells": [
  {
   "cell_type": "code",
   "execution_count": 1,
   "id": "1268cc33",
   "metadata": {},
   "outputs": [],
   "source": [
    "import os\n",
    "from dotenv import load_dotenv\n",
    "load_dotenv()\n",
    "groq_api_key=os.getenv(\"GROQ_API_KEY\")"
   ]
  },
  {
   "cell_type": "code",
   "execution_count": 2,
   "id": "3e152cfc",
   "metadata": {},
   "outputs": [],
   "source": [
    "model=\"deepseek-r1-distill-llama-70b\""
   ]
  },
  {
   "cell_type": "code",
   "execution_count": 3,
   "id": "6704353f",
   "metadata": {},
   "outputs": [],
   "source": [
    "from langchain_groq import ChatGroq\n",
    "llm = ChatGroq(model=model)"
   ]
  },
  {
   "cell_type": "code",
   "execution_count": 4,
   "id": "2abb594a",
   "metadata": {},
   "outputs": [],
   "source": [
    "from langchain.tools import tool\n",
    "\n",
    "@tool\n",
    "def multiply(a: int, b: int) -> int:\n",
    "    \"\"\"\n",
    "    Multiply two integers.\n",
    "\n",
    "    Args:\n",
    "        a (int): The first integer.\n",
    "        b (int): The second integer.\n",
    "\n",
    "    Returns:\n",
    "        int: The product of a and b.\n",
    "    \"\"\"\n",
    "    return a * b\n",
    "\n",
    "@tool\n",
    "def add(a: int, b: int) -> int:\n",
    "    \"\"\"\n",
    "    Add two integers.\n",
    "\n",
    "    Args:\n",
    "        a (int): The first integer.\n",
    "        b (int): The second integer.\n",
    "\n",
    "    Returns:\n",
    "        int: The sum of a and b.\n",
    "    \"\"\"\n",
    "    return a + b\n",
    "\n",
    "@tool\n",
    "def divide(a: int, b: int) -> float:\n",
    "    \"\"\"\n",
    "    Divide two integers.\n",
    "\n",
    "    Args:\n",
    "        a (int): The numerator.\n",
    "        b (int): The denominator (must not be 0).\n",
    "\n",
    "    Returns:\n",
    "        float: The result of division.\n",
    "    \"\"\"\n",
    "    if b == 0:\n",
    "        raise ValueError(\"Denominator cannot be zero.\")\n",
    "    return a / b"
   ]
  },
  {
   "cell_type": "code",
   "execution_count": 5,
   "id": "3d293be7",
   "metadata": {},
   "outputs": [],
   "source": [
    "# Importing internel tool\n",
    "from langchain_community.tools import DuckDuckGoSearchRun\n",
    "search = DuckDuckGoSearchRun()"
   ]
  },
  {
   "cell_type": "code",
   "execution_count": 8,
   "id": "cb01e3ef",
   "metadata": {},
   "outputs": [
    {
     "name": "stderr",
     "output_type": "stream",
     "text": [
      "d:\\Python\\CODE\\venv\\lib\\site-packages\\langchain_community\\utilities\\duckduckgo_search.py:64: UserWarning: backend='api' is deprecated, using backend='auto'\n",
      "  ddgs_gen = ddgs.text(\n"
     ]
    },
    {
     "data": {
      "text/plain": [
       "'New 16 pro max is stuck on software update for 20mins. Please help [Re-Titled by Moderator] Apple has just released the iPhone 16 series. And now, just three days after the phones have gone on sale, it\\'s already issued an update for all four models, iPhone 16, iPhone 16 Plus, iPhone 16 ... Click Check for Update. To install an available update, click Update. The process is virtually identical on Windows: download and install iTunes, launch it, select your device, and then hit \"Check for Update\" on the \"General\" tab. iPhone 16 Updating Troubles: Fixed! It\\'s frustrating when your iPhone 16 won\\'t update. New security update from Apple affects all four iPhone 16 models. Don\\'t sleep on this update, install it right now. Apple\\'s iPhone 16, iPhone 16 Plus, iPhone 16 Pro, and iPhone 16 Pro Max launched in markets around the world on September 20. If you\\'re the new owner of one of Apple\\'s latest models, then keep ...'"
      ]
     },
     "execution_count": 8,
     "metadata": {},
     "output_type": "execute_result"
    }
   ],
   "source": [
    "search.invoke(\"update on iphone16\")"
   ]
  },
  {
   "cell_type": "code",
   "execution_count": 10,
   "id": "1d944dd9",
   "metadata": {},
   "outputs": [],
   "source": [
    "tools = [add, divide, multiply, search]"
   ]
  },
  {
   "cell_type": "code",
   "execution_count": 11,
   "id": "a3e4fb56",
   "metadata": {},
   "outputs": [],
   "source": [
    "llm_with_tools = llm.bind_tools(tools)"
   ]
  },
  {
   "cell_type": "code",
   "execution_count": 12,
   "id": "ae08b8e9",
   "metadata": {},
   "outputs": [
    {
     "data": {
      "text/plain": [
       "'Hello! How can I assist you today?'"
      ]
     },
     "execution_count": 12,
     "metadata": {},
     "output_type": "execute_result"
    }
   ],
   "source": [
    "response = llm_with_tools.invoke(\"hi\")\n",
    "response.content"
   ]
  },
  {
   "cell_type": "code",
   "execution_count": 13,
   "id": "e9dfd90e",
   "metadata": {},
   "outputs": [
    {
     "data": {
      "text/plain": [
       "[]"
      ]
     },
     "execution_count": 13,
     "metadata": {},
     "output_type": "execute_result"
    }
   ],
   "source": [
    "response.tool_calls"
   ]
  },
  {
   "cell_type": "code",
   "execution_count": 14,
   "id": "d42f186e",
   "metadata": {},
   "outputs": [
    {
     "data": {
      "text/plain": [
       "''"
      ]
     },
     "execution_count": 14,
     "metadata": {},
     "output_type": "execute_result"
    }
   ],
   "source": [
    "response = llm_with_tools.invoke(\"what is addition of 2 and 3\")\n",
    "response.content"
   ]
  },
  {
   "cell_type": "code",
   "execution_count": 15,
   "id": "3175e5bc",
   "metadata": {},
   "outputs": [
    {
     "data": {
      "text/plain": [
       "[{'name': 'add',\n",
       "  'args': {'a': 2, 'b': 3},\n",
       "  'id': 'y03nv8e1q',\n",
       "  'type': 'tool_call'}]"
      ]
     },
     "execution_count": 15,
     "metadata": {},
     "output_type": "execute_result"
    }
   ],
   "source": [
    "response.tool_calls"
   ]
  },
  {
   "cell_type": "code",
   "execution_count": 6,
   "id": "68182b4b",
   "metadata": {},
   "outputs": [],
   "source": [
    "from langchain_core.messages import HumanMessage, SystemMessage\n",
    "from langgraph.graph import MessagesState,StateGraph, END, START"
   ]
  },
  {
   "cell_type": "code",
   "execution_count": 27,
   "id": "eb50c4ba",
   "metadata": {},
   "outputs": [],
   "source": [
    "SYSTEM_PROMPT = \"You are a helpful assistant tasked with using search and performing arithmetic on a set of inputs.\""
   ]
  },
  {
   "cell_type": "code",
   "execution_count": 8,
   "id": "e3b4d0b3",
   "metadata": {},
   "outputs": [],
   "source": [
    "def function_1(state:MessagesState):\n",
    "    user_question = state[\"messages\"]\n",
    "    input_question = [SYSTEM_PROMPT] + user_question\n",
    "    response = llm_with_tools.invoke(input_question)\n",
    "    return {\n",
    "        \"messages\":[response]\n",
    "    }"
   ]
  },
  {
   "cell_type": "code",
   "execution_count": 9,
   "id": "2599ecf6",
   "metadata": {},
   "outputs": [
    {
     "ename": "NameError",
     "evalue": "name 'tools' is not defined",
     "output_type": "error",
     "traceback": [
      "\u001b[1;31m---------------------------------------------------------------------------\u001b[0m",
      "\u001b[1;31mNameError\u001b[0m                                 Traceback (most recent call last)",
      "Cell \u001b[1;32mIn[9], line 4\u001b[0m\n\u001b[0;32m      2\u001b[0m workflow \u001b[38;5;241m=\u001b[39m StateGraph(MessagesState)\n\u001b[0;32m      3\u001b[0m workflow\u001b[38;5;241m.\u001b[39madd_node(\u001b[38;5;124m\"\u001b[39m\u001b[38;5;124mllm_decision_step\u001b[39m\u001b[38;5;124m\"\u001b[39m,function_1)\n\u001b[1;32m----> 4\u001b[0m workflow\u001b[38;5;241m.\u001b[39madd_node(\u001b[38;5;124m\"\u001b[39m\u001b[38;5;124mtools\u001b[39m\u001b[38;5;124m\"\u001b[39m,ToolNode(\u001b[43mtools\u001b[49m))\n\u001b[0;32m      5\u001b[0m workflow\u001b[38;5;241m.\u001b[39madd_edge(START,\u001b[38;5;124m\"\u001b[39m\u001b[38;5;124mllm_decision_step\u001b[39m\u001b[38;5;124m\"\u001b[39m)\n\u001b[0;32m      6\u001b[0m workflow\u001b[38;5;241m.\u001b[39madd_conditional_edges(\n\u001b[0;32m      7\u001b[0m \t\u001b[38;5;124m\"\u001b[39m\u001b[38;5;124mllm_decision_step\u001b[39m\u001b[38;5;124m\"\u001b[39m,\n\u001b[0;32m      8\u001b[0m     tools_condition\n\u001b[0;32m      9\u001b[0m )\n",
      "\u001b[1;31mNameError\u001b[0m: name 'tools' is not defined"
     ]
    }
   ],
   "source": [
    "from langgraph.prebuilt import ToolNode, tools_condition\n",
    "workflow = StateGraph(MessagesState)\n",
    "workflow.add_node(\"llm_decision_step\",function_1)\n",
    "workflow.add_node(\"tools\",ToolNode(tools))\n",
    "workflow.add_edge(START,\"llm_decision_step\")\n",
    "workflow.add_conditional_edges(\n",
    "\t\"llm_decision_step\",\n",
    "    tools_condition\n",
    ")\n",
    "workflow.add_edge(\"tools\",\"llm_decision_step\")\n",
    "app = workflow.compile()"
   ]
  },
  {
   "cell_type": "code",
   "execution_count": 24,
   "id": "aa884f29",
   "metadata": {},
   "outputs": [
    {
     "data": {
      "image/png": "[encoded data removed]",
      "text/plain": [
       "<langgraph.graph.state.CompiledStateGraph object at 0x000002770A6623A0>"
      ]
     },
     "execution_count": 24,
     "metadata": {},
     "output_type": "execute_result"
    }
   ],
   "source": [
    "app"
   ]
  },
  {
   "cell_type": "code",
   "execution_count": 25,
   "id": "4bcfb2d0",
   "metadata": {},
   "outputs": [],
   "source": [
    "message=[HumanMessage(content=\"What is 2 times of narendramodi's age?\")]"
   ]
  },
  {
   "cell_type": "code",
   "execution_count": 34,
   "id": "b139a39e",
   "metadata": {},
   "outputs": [
    {
     "name": "stderr",
     "output_type": "stream",
     "text": [
      "d:\\Python\\CODE\\venv\\lib\\site-packages\\langchain_community\\utilities\\duckduckgo_search.py:64: UserWarning: backend='api' is deprecated, using backend='auto'\n",
      "  ddgs_gen = ddgs.text(\n"
     ]
    },
    {
     "data": {
      "text/plain": [
       "{'messages': [HumanMessage(content=\"What is 2 times of narendramodi's age?\", additional_kwargs={}, response_metadata={}, id='e3f1433e-7b3c-403c-99cb-c13284ed5c2f'),\n",
       "  AIMessage(content='', additional_kwargs={'tool_calls': [{'id': '4332jhaxm', 'function': {'arguments': '{\"query\":\"Narendra Modi age 2023\"}', 'name': 'duckduckgo_search'}, 'type': 'function'}]}, response_metadata={'token_usage': {'completion_tokens': 288, 'prompt_tokens': 423, 'total_tokens': 711, 'completion_time': 1.237375233, 'prompt_time': 0.036534374, 'queue_time': 0.057152426, 'total_time': 1.273909607}, 'model_name': 'deepseek-r1-distill-llama-70b', 'system_fingerprint': 'fp_1bbe7845ec', 'finish_reason': 'tool_calls', 'logprobs': None}, id='run--cbb3e960-a7de-46e9-807c-8a4f79df1681-0', tool_calls=[{'name': 'duckduckgo_search', 'args': {'query': 'Narendra Modi age 2023'}, 'id': '4332jhaxm', 'type': 'tool_call'}], usage_metadata={'input_tokens': 423, 'output_tokens': 288, 'total_tokens': 711}),\n",
       "  ToolMessage(content='List of all Prime Ministers of India till 2025: Narendra Modi is the current and 14th Prime Minister of India who assumed office on 10 June 2024. Jawaharlal Nehru is the first and the longest ... What is PM Narendra Modi\\'s age in 2023? PM Narendra Modi\\'s age in 2023 is 73 years old as of September 2023. How can I contact Prime Minister of India? Place a call to the Prime Minister\\'s office at 011-230114547. You can also send a fax at 011-23019545 or 011-23016857. The \"011\" in the phone numbers listed is the area code for New Delhi ... Narendra Modi (born September 17, 1950, Vadnagar, India) is an Indian politician and government official who rose to become a senior leader of the Bharatiya Janata Party (BJP). In 2014 he led his party to victory in elections to the Lok Sabha (lower chamber of the Indian parliament), after which he was sworn in as prime minister of India.Prior to that he had served (2001-14) as chief ... Born as Narendra Damodardas Modi on September 17, 1950 in the nondescript Mehsana town of Gujarat, he served as the state\\'s CM for three consecutive terms (2001-14) and is now the Prime Minister for the third time. ... 2023: Last year, PM Modi celebrated his birthday by announcing a game changer scheme for peasants, craftsmen and artisans of ... 2023: PM Narendra Modi announced the PM Vishwakarma Yojana to enhance the skilling of craftsmen and artisans in the country. Two key infrastructure projects - India International Convention and ...', name='duckduckgo_search', id='a8856aad-756a-4f13-9de6-20dfc58a50f3', tool_call_id='4332jhaxm'),\n",
       "  AIMessage(content='', additional_kwargs={'tool_calls': [{'id': 'hjn46tnag', 'function': {'arguments': '{\"a\":73,\"b\":2}', 'name': 'multiply'}, 'type': 'function'}]}, response_metadata={'token_usage': {'completion_tokens': 165, 'prompt_tokens': 845, 'total_tokens': 1010, 'completion_time': 0.6, 'prompt_time': 0.066025201, 'queue_time': 0.074900889, 'total_time': 0.666025201}, 'model_name': 'deepseek-r1-distill-llama-70b', 'system_fingerprint': 'fp_1bbe7845ec', 'finish_reason': 'tool_calls', 'logprobs': None}, id='run--24f4d4b7-d8a0-4b51-85bf-99e1e174f02e-0', tool_calls=[{'name': 'multiply', 'args': {'a': 73, 'b': 2}, 'id': 'hjn46tnag', 'type': 'tool_call'}], usage_metadata={'input_tokens': 845, 'output_tokens': 165, 'total_tokens': 1010}),\n",
       "  ToolMessage(content='146', name='multiply', id='b7125b32-866f-4a47-a357-5e532a4c5b0d', tool_call_id='hjn46tnag'),\n",
       "  AIMessage(content='\\nOkay, so I need to figure out how old Narendra Modi is in 2023 and then multiply that age by 2. First, I\\'ll start by recalling what I know about Narendra Modi. I remember that he\\'s the Prime Minister of India and has been in office for a couple of terms. I think he was born in the early 1950s, but I\\'m not exactly sure of the year. To get accurate information, I should probably look up his birthdate.\\n\\nI\\'ll start by searching for \"Narendra Modi age 2023.\" That should give me his current age as of 2023. Once I have his age, the next step is to multiply that number by 2. Multiplication by 2 is straightforward, but I want to make sure I have the exact age to get the correct result.\\n\\nAfter conducting the search, I find that Narendra Modi was born on September 17, 1950. As of 2023, that makes him 73 years old. Now, I need to multiply 73 by 2. \\n\\nSo, 73 multiplied by 2 equals 146. Therefore, twice Narendra Modi\\'s age in 2023 is 146.\\n</think>\\n\\nTwice Narendra Modi\\'s age in 2023 is 146.', additional_kwargs={}, response_metadata={'token_usage': {'completion_tokens': 262, 'prompt_tokens': 897, 'total_tokens': 1159, 'completion_time': 0.967251664, 'prompt_time': 0.066133349, 'queue_time': 0.05841479100000001, 'total_time': 1.033385013}, 'model_name': 'deepseek-r1-distill-llama-70b', 'system_fingerprint': 'fp_1bbe7845ec', 'finish_reason': 'stop', 'logprobs': None}, id='run--c4dabaf0-e7fc-4f83-a6d9-e194ac222046-0', usage_metadata={'input_tokens': 897, 'output_tokens': 262, 'total_tokens': 1159})]}"
      ]
     },
     "execution_count": 34,
     "metadata": {},
     "output_type": "execute_result"
    }
   ],
   "source": [
    "app.invoke({\"messages\":message})"
   ]
  },
  {
   "cell_type": "code",
   "execution_count": 35,
   "id": "4ab1367f",
   "metadata": {},
   "outputs": [
    {
     "name": "stderr",
     "output_type": "stream",
     "text": [
      "d:\\Python\\CODE\\venv\\lib\\site-packages\\langchain_community\\utilities\\duckduckgo_search.py:64: UserWarning: backend='api' is deprecated, using backend='auto'\n",
      "  ddgs_gen = ddgs.text(\n"
     ]
    },
    {
     "data": {
      "text/plain": [
       "{'messages': [HumanMessage(content='How much is the net worth of Elon Musk, and divide it by 2?', additional_kwargs={}, response_metadata={}, id='ee537da9-3f3c-4552-af7f-d2a04f084cfc'),\n",
       "  AIMessage(content='', additional_kwargs={'tool_calls': [{'id': 'zx74rawy7', 'function': {'arguments': '{\"query\":\"Elon Musk net worth 2023\"}', 'name': 'duckduckgo_search'}, 'type': 'function'}]}, response_metadata={'token_usage': {'completion_tokens': 266, 'prompt_tokens': 427, 'total_tokens': 693, 'completion_time': 1.037023133, 'prompt_time': 0.027346946, 'queue_time': 0.053597224, 'total_time': 1.064370079}, 'model_name': 'deepseek-r1-distill-llama-70b', 'system_fingerprint': 'fp_1bbe7845ec', 'finish_reason': 'tool_calls', 'logprobs': None}, id='run--548784be-b384-4851-8afc-5fcae31aa8e0-0', tool_calls=[{'name': 'duckduckgo_search', 'args': {'query': 'Elon Musk net worth 2023'}, 'id': 'zx74rawy7', 'type': 'tool_call'}], usage_metadata={'input_tokens': 427, 'output_tokens': 266, 'total_tokens': 693}),\n",
       "  ToolMessage(content=\"Musk owns an estimated 54% of xAI, which he founded in 2023. Private investors valued the company at a reported $50 billion in November 2024. ... Elon Musk's net worth fell by the equivalent of ... As of 2023, Elon Musk's net worth was a staggering $163,5 billion. Musk owes a huge chunk of his wealth to his 20% stake in Tesla, as well as his majority stake in SpaceX. Elon Musk started building his business empire in the 90s after founding his first company, an online city guide known as Zip2 Corporation. Zip2 Corporation was purchased ... View net worth over: Max 1 year 1 quarter ... He renamed the company X Corp. in April 2023. Musk was the largest financial backer of Donald Trump's presidential campaign during the 2024 election ... Elon Musk's net worth dropped by $34 billion in the midst of his major feud with President Donald Trump, bringing his personal fortune down to $334.5 billion, according to Bloomberg. Elon Musk's net worth climbed to a peak of over $420 billion in December. Since then, Tesla's poor stock market performance has dragged on Musk's fortune. ... When it last raised capital in December 2023, SpaceX was valued at $180 billion. More recently, Bloomberg reported on a prospective tender offer that valued the company at $210 billion.\", name='duckduckgo_search', id='2497ff6a-2062-4af1-8600-35ed98e066e0', tool_call_id='zx74rawy7'),\n",
       "  AIMessage(content='', additional_kwargs={'tool_calls': [{'id': 'd3z143wcr', 'function': {'arguments': '{\"a\":163500000000,\"b\":2}', 'name': 'divide'}, 'type': 'function'}]}, response_metadata={'token_usage': {'completion_tokens': 231, 'prompt_tokens': 768, 'total_tokens': 999, 'completion_time': 0.84, 'prompt_time': 0.059838844, 'queue_time': 0.057104564, 'total_time': 0.899838844}, 'model_name': 'deepseek-r1-distill-llama-70b', 'system_fingerprint': 'fp_1bbe7845ec', 'finish_reason': 'tool_calls', 'logprobs': None}, id='run--52829337-c363-4b18-b8db-66daa428fab8-0', tool_calls=[{'name': 'divide', 'args': {'a': 163500000000, 'b': 2}, 'id': 'd3z143wcr', 'type': 'tool_call'}], usage_metadata={'input_tokens': 768, 'output_tokens': 231, 'total_tokens': 999}),\n",
       "  ToolMessage(content='81750000000.0', name='divide', id='c7a5b9e9-8f43-4a6a-a4b9-3f5028d35978', tool_call_id='d3z143wcr'),\n",
       "  AIMessage(content=\"Elon Musk's net worth as of 2023 is $163.5 billion. When divided by 2, the result is:\\n\\n\\\\boxed{81750000000.0}\", additional_kwargs={}, response_metadata={'token_usage': {'completion_tokens': 247, 'prompt_tokens': 829, 'total_tokens': 1076, 'completion_time': 0.898181818, 'prompt_time': 0.061439505, 'queue_time': 0.053668183, 'total_time': 0.959621323}, 'model_name': 'deepseek-r1-distill-llama-70b', 'system_fingerprint': 'fp_1bbe7845ec', 'finish_reason': 'stop', 'logprobs': None}, id='run--8936ec7f-26ba-4129-8904-a9b4ca843280-0', usage_metadata={'input_tokens': 829, 'output_tokens': 247, 'total_tokens': 1076})]}"
      ]
     },
     "execution_count": 35,
     "metadata": {},
     "output_type": "execute_result"
    }
   ],
   "source": [
    "message = [HumanMessage(content=\"How much is the net worth of Elon Musk, and divide it by 2?\")]\n",
    "app.invoke({\"messages\":message})"
   ]
  },
  {
   "cell_type": "code",
   "execution_count": 40,
   "id": "bddead67",
   "metadata": {},
   "outputs": [
    {
     "name": "stderr",
     "output_type": "stream",
     "text": [
      "d:\\Python\\CODE\\venv\\lib\\site-packages\\langchain_community\\utilities\\duckduckgo_search.py:64: UserWarning: backend='api' is deprecated, using backend='auto'\n",
      "  ddgs_gen = ddgs.text(\n"
     ]
    }
   ],
   "source": [
    "message = [HumanMessage(content=\"What is the speed of light in m/s and multiply it by 10?\")]\n",
    "response = app.invoke({\"messages\":message})"
   ]
  },
  {
   "cell_type": "code",
   "execution_count": 42,
   "id": "aad19405",
   "metadata": {},
   "outputs": [
    {
     "data": {
      "text/plain": [
       "{'messages': [HumanMessage(content='What is the speed of light in m/s and multiply it by 10?', additional_kwargs={}, response_metadata={}, id='62878916-9717-4b58-a7e9-50b7a9038b62'),\n",
       "  AIMessage(content='', additional_kwargs={'tool_calls': [{'id': '1w7r9bm5s', 'function': {'arguments': '{\"query\":\"speed of light in m/s\"}', 'name': 'duckduckgo_search'}, 'type': 'function'}]}, response_metadata={'token_usage': {'completion_tokens': 338, 'prompt_tokens': 426, 'total_tokens': 764, 'completion_time': 1.3333090269999999, 'prompt_time': 0.028339045, 'queue_time': 0.052707096, 'total_time': 1.361648072}, 'model_name': 'deepseek-r1-distill-llama-70b', 'system_fingerprint': 'fp_1bbe7845ec', 'finish_reason': 'tool_calls', 'logprobs': None}, id='run--825e1a75-5a44-48aa-adcf-bd6541ed2bdc-0', tool_calls=[{'name': 'duckduckgo_search', 'args': {'query': 'speed of light in m/s'}, 'id': '1w7r9bm5s', 'type': 'tool_call'}], usage_metadata={'input_tokens': 426, 'output_tokens': 338, 'total_tokens': 764}),\n",
       "  ToolMessage(content='The speed of light in vacuum, commonly denoted c, is a universal physical constant exactly equal to 299,792,458 metres per second (approximately 300,000 kilometres per second; ... [97] fixing the value of the speed of light at 299 792 458 m/s by definition, as described below. Learn what is the speed of light in a vacuum and how it affects physics and space travel. Find out how to measure distances in light-years and what is faster than light. Speed of light, speed at which light waves propagate through different materials. In a vacuum, the speed of light is 299,792,458 meters per second. The speed of light is considered a fundamental constant of nature. Its significance is far broader than its role in describing a property of electromagnetic waves. The speed of light is the fastest known speed in the universe and is a cosmic limit. Light travels at 299,792,458 meters per second in a vacuum, but it slows in different materials. The speed of light is equal to the distance light travels, d, divided by the time it takes, ∆t : c = d/∆t . ... Defining the meter in terms of the speed of light basically fixes the speed of light at 299,792,458 m/s. If an experiment yields a different result, it just means the apparatus is faulty. Rather than conducting more experiments to ...', name='duckduckgo_search', id='367892a4-cc1e-4da5-a343-29f2f49544d5', tool_call_id='1w7r9bm5s'),\n",
       "  AIMessage(content='', additional_kwargs={'tool_calls': [{'id': 'bprdmsvr1', 'function': {'arguments': '{\"a\":299792458,\"b\":10}', 'name': 'multiply'}, 'type': 'function'}]}, response_metadata={'token_usage': {'completion_tokens': 428, 'prompt_tokens': 772, 'total_tokens': 1200, 'completion_time': 1.883395053, 'prompt_time': 0.057986588, 'queue_time': 0.053864632, 'total_time': 1.941381641}, 'model_name': 'deepseek-r1-distill-llama-70b', 'system_fingerprint': 'fp_1bbe7845ec', 'finish_reason': 'tool_calls', 'logprobs': None}, id='run--f6ccb042-92fd-4a9b-b74b-f80c8947ef5a-0', tool_calls=[{'name': 'multiply', 'args': {'a': 299792458, 'b': 10}, 'id': 'bprdmsvr1', 'type': 'tool_call'}], usage_metadata={'input_tokens': 772, 'output_tokens': 428, 'total_tokens': 1200}),\n",
       "  ToolMessage(content='2997924580', name='multiply', id='981d7c0f-e7bf-48b9-a0d6-1a50abc8a3ef', tool_call_id='bprdmsvr1'),\n",
       "  AIMessage(content='The speed of light in meters per second is **299,792,458 m/s**. When multiplied by 10, the result is **2,997,924,580**.', additional_kwargs={}, response_metadata={'token_usage': {'completion_tokens': 233, 'prompt_tokens': 829, 'total_tokens': 1062, 'completion_time': 0.935791794, 'prompt_time': 0.061181303, 'queue_time': 0.054256436, 'total_time': 0.996973097}, 'model_name': 'deepseek-r1-distill-llama-70b', 'system_fingerprint': 'fp_1bbe7845ec', 'finish_reason': 'stop', 'logprobs': None}, id='run--8c2e2d42-35f2-4de0-b960-a418b4cecfd8-0', usage_metadata={'input_tokens': 829, 'output_tokens': 233, 'total_tokens': 1062})]}"
      ]
     },
     "execution_count": 42,
     "metadata": {},
     "output_type": "execute_result"
    }
   ],
   "source": [
    "response"
   ]
  },
  {
   "cell_type": "code",
   "execution_count": 41,
   "id": "6a384109",
   "metadata": {},
   "outputs": [
    {
     "data": {
      "text/plain": [
       "'The speed of light in meters per second is **299,792,458 m/s**. When multiplied by 10, the result is **2,997,924,580**.'"
      ]
     },
     "execution_count": 41,
     "metadata": {},
     "output_type": "execute_result"
    }
   ],
   "source": [
    "response['messages'][-1].content"
   ]
  },
  {
   "cell_type": "code",
   "execution_count": 43,
   "id": "c811b9d4",
   "metadata": {},
   "outputs": [
    {
     "name": "stdout",
     "output_type": "stream",
     "text": [
      "================================\u001b[1m Human Message \u001b[0m=================================\n",
      "\n",
      "What is the speed of light in m/s and multiply it by 10?\n",
      "==================================\u001b[1m Ai Message \u001b[0m==================================\n",
      "Tool Calls:\n",
      "  duckduckgo_search (1w7r9bm5s)\n",
      " Call ID: 1w7r9bm5s\n",
      "  Args:\n",
      "    query: speed of light in m/s\n",
      "=================================\u001b[1m Tool Message \u001b[0m=================================\n",
      "Name: duckduckgo_search\n",
      "\n",
      "The speed of light in vacuum, commonly denoted c, is a universal physical constant exactly equal to 299,792,458 metres per second (approximately 300,000 kilometres per second; ... [97] fixing the value of the speed of light at 299 792 458 m/s by definition, as described below. Learn what is the speed of light in a vacuum and how it affects physics and space travel. Find out how to measure distances in light-years and what is faster than light. Speed of light, speed at which light waves propagate through different materials. In a vacuum, the speed of light is 299,792,458 meters per second. The speed of light is considered a fundamental constant of nature. Its significance is far broader than its role in describing a property of electromagnetic waves. The speed of light is the fastest known speed in the universe and is a cosmic limit. Light travels at 299,792,458 meters per second in a vacuum, but it slows in different materials. The speed of light is equal to the distance light travels, d, divided by the time it takes, ∆t : c = d/∆t . ... Defining the meter in terms of the speed of light basically fixes the speed of light at 299,792,458 m/s. If an experiment yields a different result, it just means the apparatus is faulty. Rather than conducting more experiments to ...\n",
      "==================================\u001b[1m Ai Message \u001b[0m==================================\n",
      "Tool Calls:\n",
      "  multiply (bprdmsvr1)\n",
      " Call ID: bprdmsvr1\n",
      "  Args:\n",
      "    a: 299792458\n",
      "    b: 10\n",
      "=================================\u001b[1m Tool Message \u001b[0m=================================\n",
      "Name: multiply\n",
      "\n",
      "2997924580\n",
      "==================================\u001b[1m Ai Message \u001b[0m==================================\n",
      "\n",
      "The speed of light in meters per second is **299,792,458 m/s**. When multiplied by 10, the result is **2,997,924,580**.\n"
     ]
    }
   ],
   "source": [
    "for m in response[\"messages\"]:\n",
    "    m.pretty_print()"
   ]
  },
  {
   "cell_type": "code",
   "execution_count": 10,
   "id": "7fd6ed77",
   "metadata": {},
   "outputs": [],
   "source": [
    "import yfinance as yf\n",
    "@tool\n",
    "def get_stock_price(ticker:str)->str:\n",
    "    \"\"\"\n",
    "    Fetches the previous closing price of a given stock ticker from Yahoo Finance.\n",
    "\n",
    "    Args:\n",
    "        ticker (str): The stock ticker symbol (e.g., 'AAPL', 'TSLA', 'NIFTY.BO').\n",
    "\n",
    "    Returns:\n",
    "        str: A message with the stock's previous closing price.\n",
    "    \"\"\"\n",
    "    try:\n",
    "        stock = yf.Ticker(ticker)\n",
    "        price = stock.info.get('previousClose')\n",
    "        if price is None:\n",
    "            return f\"Could not fetch price for ticker '{ticker}'.\"\n",
    "        return f\"The last closing price of {ticker.upper()} was ${price:.2f}.\"\n",
    "    except Exception as e:\n",
    "        return f\"An error occurred while fetching stock data: {str(e)}\""
   ]
  },
  {
   "cell_type": "code",
   "execution_count": 11,
   "id": "6949e11e",
   "metadata": {},
   "outputs": [
    {
     "data": {
      "text/plain": [
       "'The last closing price of AAPL was $201.00.'"
      ]
     },
     "execution_count": 11,
     "metadata": {},
     "output_type": "execute_result"
    }
   ],
   "source": [
    "get_stock_price.invoke(\"AAPL\")"
   ]
  },
  {
   "cell_type": "code",
   "execution_count": 46,
   "id": "65004a19",
   "metadata": {},
   "outputs": [
    {
     "data": {
      "text/plain": [
       "'The last closing price of TSLA was $328.49.'"
      ]
     },
     "execution_count": 46,
     "metadata": {},
     "output_type": "execute_result"
    }
   ],
   "source": [
    "get_stock_price.invoke(\"TSLA\")"
   ]
  },
  {
   "cell_type": "code",
   "execution_count": 47,
   "id": "3537e737",
   "metadata": {},
   "outputs": [
    {
     "data": {
      "text/plain": [
       "[StructuredTool(name='add', description='Add two integers.\\n\\nArgs:\\n    a (int): The first integer.\\n    b (int): The second integer.\\n\\nReturns:\\n    int: The sum of a and b.', args_schema=<class 'langchain_core.utils.pydantic.add'>, func=<function add at 0x0000027708A9F550>),\n",
       " StructuredTool(name='divide', description='Divide two integers.\\n\\nArgs:\\n    a (int): The numerator.\\n    b (int): The denominator (must not be 0).\\n\\nReturns:\\n    float: The result of division.', args_schema=<class 'langchain_core.utils.pydantic.divide'>, func=<function divide at 0x00000277061CE4C0>),\n",
       " StructuredTool(name='multiply', description='Multiply two integers.\\n\\nArgs:\\n    a (int): The first integer.\\n    b (int): The second integer.\\n\\nReturns:\\n    int: The product of a and b.', args_schema=<class 'langchain_core.utils.pydantic.multiply'>, func=<function multiply at 0x000002770A50F820>),\n",
       " DuckDuckGoSearchRun(api_wrapper=DuckDuckGoSearchAPIWrapper(region='wt-wt', safesearch='moderate', time='y', max_results=5, backend='api', source='text'))]"
      ]
     },
     "execution_count": 47,
     "metadata": {},
     "output_type": "execute_result"
    }
   ],
   "source": [
    "tools"
   ]
  },
  {
   "cell_type": "code",
   "execution_count": 12,
   "id": "e6752b96",
   "metadata": {},
   "outputs": [
    {
     "data": {
      "text/plain": [
       "[StructuredTool(name='add', description='Add two integers.\\n\\nArgs:\\n    a (int): The first integer.\\n    b (int): The second integer.\\n\\nReturns:\\n    int: The sum of a and b.', args_schema=<class 'langchain_core.utils.pydantic.add'>, func=<function add at 0x000002AC2F7FC280>),\n",
       " StructuredTool(name='multiply', description='Multiply two integers.\\n\\nArgs:\\n    a (int): The first integer.\\n    b (int): The second integer.\\n\\nReturns:\\n    int: The product of a and b.', args_schema=<class 'langchain_core.utils.pydantic.multiply'>, func=<function multiply at 0x000002AC2F7B5820>),\n",
       " StructuredTool(name='divide', description='Divide two integers.\\n\\nArgs:\\n    a (int): The numerator.\\n    b (int): The denominator (must not be 0).\\n\\nReturns:\\n    float: The result of division.', args_schema=<class 'langchain_core.utils.pydantic.divide'>, func=<function divide at 0x000002AC2F7FC310>),\n",
       " DuckDuckGoSearchRun(api_wrapper=DuckDuckGoSearchAPIWrapper(region='wt-wt', safesearch='moderate', time='y', max_results=5, backend='api', source='text')),\n",
       " StructuredTool(name='get_stock_price', description=\"Fetches the previous closing price of a given stock ticker from Yahoo Finance.\\n\\nArgs:\\n    ticker (str): The stock ticker symbol (e.g., 'AAPL', 'TSLA', 'NIFTY.BO').\\n\\nReturns:\\n    str: A message with the stock's previous closing price.\", args_schema=<class 'langchain_core.utils.pydantic.get_stock_price'>, func=<function get_stock_price at 0x000002AC30F655E0>)]"
      ]
     },
     "execution_count": 12,
     "metadata": {},
     "output_type": "execute_result"
    }
   ],
   "source": [
    "tools = [add, multiply, divide, search,get_stock_price]\n",
    "tools"
   ]
  },
  {
   "cell_type": "code",
   "execution_count": 13,
   "id": "ef893b29",
   "metadata": {},
   "outputs": [],
   "source": [
    "llm_with_tools = llm.bind_tools(tools)"
   ]
  },
  {
   "cell_type": "code",
   "execution_count": 50,
   "id": "a2e902f8",
   "metadata": {},
   "outputs": [
    {
     "data": {
      "text/plain": [
       "''"
      ]
     },
     "execution_count": 50,
     "metadata": {},
     "output_type": "execute_result"
    }
   ],
   "source": [
    "response=llm_with_tools.invoke(\"can you give me a latest stock price of adani greens?\")\n",
    "response.content"
   ]
  },
  {
   "cell_type": "code",
   "execution_count": 51,
   "id": "6549fdce",
   "metadata": {},
   "outputs": [
    {
     "data": {
      "text/plain": [
       "[{'name': 'get_stock_price',\n",
       "  'args': {'ticker': 'ADANIGREN.BO'},\n",
       "  'id': 'vgfeencw8',\n",
       "  'type': 'tool_call'}]"
      ]
     },
     "execution_count": 51,
     "metadata": {},
     "output_type": "execute_result"
    }
   ],
   "source": [
    "response.tool_calls"
   ]
  },
  {
   "cell_type": "code",
   "execution_count": 14,
   "id": "55938c29",
   "metadata": {},
   "outputs": [],
   "source": [
    "SYSTEM_PROMPT = SystemMessage(\n",
    "    content=\"You are a helpful assistant tasked with using search, the yahoo finance tool and performing arithmetic on a set of inputs.\"\n",
    ")\n",
    "def function_1(state:MessagesState):\n",
    "    user_question=state[\"messages\"]\n",
    "    input_question = [SYSTEM_PROMPT]+user_question\n",
    "    response = llm_with_tools.invoke(input_question)\n",
    "    return {\n",
    "        \"messages\":[response]\n",
    "    }"
   ]
  },
  {
   "cell_type": "code",
   "execution_count": 15,
   "id": "5428e534",
   "metadata": {},
   "outputs": [],
   "source": [
    "workflow = StateGraph(MessagesState)\n",
    "workflow.add_node(\"llm_decision_step\", function_1)\n",
    "workflow.add_node(\"tools\", ToolNode(tools))\n",
    "workflow.add_edge(START, \"llm_decision_step\")\n",
    "workflow.add_conditional_edges(\n",
    "    \"llm_decision_step\",\n",
    "    tools_condition,\n",
    ")\n",
    "workflow.add_edge(\"tools\", \"llm_decision_step\")\n",
    "app2 = workflow.compile()"
   ]
  },
  {
   "cell_type": "code",
   "execution_count": 61,
   "id": "bd177ab2",
   "metadata": {},
   "outputs": [],
   "source": [
    "message = [HumanMessage(content=\"add 1000 in the current stock price of Apple.\")]\n",
    "response1 = app2.invoke({\"messages\": message})"
   ]
  },
  {
   "cell_type": "code",
   "execution_count": 62,
   "id": "aad841af",
   "metadata": {},
   "outputs": [
    {
     "name": "stdout",
     "output_type": "stream",
     "text": [
      "================================\u001b[1m Human Message \u001b[0m=================================\n",
      "\n",
      "add 1000 in the current stock price of Apple.\n",
      "==================================\u001b[1m Ai Message \u001b[0m==================================\n",
      "Tool Calls:\n",
      "  get_stock_price (j3cgzg9pt)\n",
      " Call ID: j3cgzg9pt\n",
      "  Args:\n",
      "    ticker: AAPL\n",
      "=================================\u001b[1m Tool Message \u001b[0m=================================\n",
      "Name: get_stock_price\n",
      "\n",
      "The last closing price of AAPL was $201.00.\n",
      "==================================\u001b[1m Ai Message \u001b[0m==================================\n",
      "Tool Calls:\n",
      "  add (gvq52a2dj)\n",
      " Call ID: gvq52a2dj\n",
      "  Args:\n",
      "    a: 1000\n",
      "    b: 201\n",
      "=================================\u001b[1m Tool Message \u001b[0m=================================\n",
      "Name: add\n",
      "\n",
      "1201\n",
      "==================================\u001b[1m Ai Message \u001b[0m==================================\n",
      "\n",
      "The result of adding 1000 to the current stock price of Apple is \\boxed{1201}.\n"
     ]
    }
   ],
   "source": [
    "for m in response1['messages']:\n",
    "    m.pretty_print()"
   ]
  }
 ],
 "metadata": {
  "kernelspec": {
   "display_name": "Python 3",
   "language": "python",
   "name": "python3"
  },
  "language_info": {
   "codemirror_mode": {
    "name": "ipython",
    "version": 3
   },
   "file_extension": ".py",
   "mimetype": "text/x-python",
   "name": "python",
   "nbconvert_exporter": "python",
   "pygments_lexer": "ipython3",
   "version": "3.9.5"
  }
 },
 "nbformat": 4,
 "nbformat_minor": 5
}
