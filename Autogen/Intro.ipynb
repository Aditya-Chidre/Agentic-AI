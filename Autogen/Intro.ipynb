{
 "cells": [
  {
   "cell_type": "code",
   "execution_count": 1,
   "id": "fa0b4c02",
   "metadata": {},
   "outputs": [
    {
     "data": {
      "text/plain": [
       "True"
      ]
     },
     "execution_count": 1,
     "metadata": {},
     "output_type": "execute_result"
    }
   ],
   "source": [
    "from autogen_agentchat.agents import AssistantAgent\n",
    "from autogen_ext.models.openai import OpenAIChatCompletionClient\n",
    "from dotenv import load_dotenv\n",
    "load_dotenv()"
   ]
  },
  {
   "cell_type": "code",
   "execution_count": 7,
   "id": "189c90dd",
   "metadata": {},
   "outputs": [],
   "source": [
    "client = OpenAIChatCompletionClient(model='gpt-4.1-nano')\n",
    "agent = AssistantAgent(name='my_agent',model_client=client)"
   ]
  },
  {
   "cell_type": "code",
   "execution_count": 4,
   "id": "f7b08d11",
   "metadata": {},
   "outputs": [
    {
     "data": {
      "text/plain": [
       "[TextMessage(source='user', models_usage=None, metadata={}, content='tell something about AI in short', type='TextMessage'),\n",
       " TextMessage(source='my_agent', models_usage=RequestUsage(prompt_tokens=42, completion_tokens=112), metadata={}, content='Artificial Intelligence (AI) refers to the simulation of human intelligence in machines that are programmed to think and learn like humans. It encompasses various subfields, including machine learning, natural language processing, robotics, and computer vision. AI applications range from virtual assistants and recommendation systems to autonomous vehicles and predictive analytics. The goal of AI is to create systems that can perform tasks that typically require human intelligence, such as understanding language, recognizing patterns, and making decisions. As technology evolves, AI continues to influence various industries, enhancing efficiency and enabling new capabilities. \\n\\nTERMINATE', type='TextMessage')]"
      ]
     },
     "execution_count": 4,
     "metadata": {},
     "output_type": "execute_result"
    }
   ],
   "source": [
    "result = await agent.run(task='tell something about AI in short')\n",
    "result.messages"
   ]
  },
  {
   "cell_type": "code",
   "execution_count": 5,
   "id": "5ef101bd",
   "metadata": {},
   "outputs": [
    {
     "data": {
      "text/plain": [
       "'Artificial Intelligence (AI) refers to the simulation of human intelligence in machines that are programmed to think and learn like humans. It encompasses various subfields, including machine learning, natural language processing, robotics, and computer vision. AI applications range from virtual assistants and recommendation systems to autonomous vehicles and predictive analytics. The goal of AI is to create systems that can perform tasks that typically require human intelligence, such as understanding language, recognizing patterns, and making decisions. As technology evolves, AI continues to influence various industries, enhancing efficiency and enabling new capabilities. \\n\\nTERMINATE'"
      ]
     },
     "execution_count": 5,
     "metadata": {},
     "output_type": "execute_result"
    }
   ],
   "source": [
    "result.messages[-1].content"
   ]
  },
  {
   "cell_type": "code",
   "execution_count": 6,
   "id": "defad9fa",
   "metadata": {},
   "outputs": [
    {
     "data": {
      "text/plain": [
       "[TextMessage(source='user', models_usage=None, metadata={}, content='what was my previous question?', type='TextMessage'),\n",
       " TextMessage(source='my_agent', models_usage=RequestUsage(prompt_tokens=169, completion_tokens=17), metadata={}, content='Your previous question was: \"tell something about AI in short.\" \\n\\nTERMINATE', type='TextMessage')]"
      ]
     },
     "execution_count": 6,
     "metadata": {},
     "output_type": "execute_result"
    }
   ],
   "source": [
    "result2 = await agent.run(task=\"what was my previous question?\")\n",
    "result2.messages"
   ]
  },
  {
   "cell_type": "code",
   "execution_count": null,
   "id": "1ee39daf",
   "metadata": {},
   "outputs": [],
   "source": []
  },
  {
   "cell_type": "code",
   "execution_count": null,
   "id": "63a32e41",
   "metadata": {},
   "outputs": [],
   "source": []
  }
 ],
 "metadata": {
  "kernelspec": {
   "display_name": "Python 3",
   "language": "python",
   "name": "python3"
  },
  "language_info": {
   "codemirror_mode": {
    "name": "ipython",
    "version": 3
   },
   "file_extension": ".py",
   "mimetype": "text/x-python",
   "name": "python",
   "nbconvert_exporter": "python",
   "pygments_lexer": "ipython3",
   "version": "3.10.18"
  }
 },
 "nbformat": 4,
 "nbformat_minor": 5
}
