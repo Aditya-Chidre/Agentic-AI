{
 "cells": [
  {
   "cell_type": "code",
   "execution_count": 7,
   "id": "2d06e1f3",
   "metadata": {},
   "outputs": [],
   "source": [
    "import asyncio\n",
    "import time\n",
    "async def brew():\n",
    "    print(\"coffee brewing\")\n",
    "    await asyncio.sleep(4)\n",
    "    print(\"coffee ready\")\n",
    "    \n",
    "async def cooking():\n",
    "    print(\"cooking\")\n",
    "    await asyncio.sleep(2)\n",
    "    print(\"cook ready\")\n",
    "    \n",
    "async def main():\n",
    "    start = time.time()\n",
    "    coffee = brew()\n",
    "    cook = cooking()\n",
    "    result = await asyncio.gather(coffee,cook)\n",
    "    end = time.time()\n",
    "    print(f\"time taken: {end-start:.2f} sec\")\n",
    "    "
   ]
  },
  {
   "cell_type": "code",
   "execution_count": 8,
   "id": "f4611162",
   "metadata": {},
   "outputs": [
    {
     "name": "stdout",
     "output_type": "stream",
     "text": [
      "coffee brewing\n",
      "cooking\n",
      "cook ready\n",
      "coffee ready\n",
      "time taken: 4.00 sec\n"
     ]
    }
   ],
   "source": [
    "await main()"
   ]
  },
  {
   "cell_type": "code",
   "execution_count": null,
   "id": "7b0af9d0",
   "metadata": {},
   "outputs": [],
   "source": []
  }
 ],
 "metadata": {
  "kernelspec": {
   "display_name": "venv",
   "language": "python",
   "name": "python3"
  },
  "language_info": {
   "codemirror_mode": {
    "name": "ipython",
    "version": 3
   },
   "file_extension": ".py",
   "mimetype": "text/x-python",
   "name": "python",
   "nbconvert_exporter": "python",
   "pygments_lexer": "ipython3",
   "version": "3.11.1"
  }
 },
 "nbformat": 4,
 "nbformat_minor": 5
}
