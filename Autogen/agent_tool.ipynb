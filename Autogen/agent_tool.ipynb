{
 "cells": [
  {
   "cell_type": "code",
   "execution_count": 2,
   "id": "c8cb8fb1",
   "metadata": {},
   "outputs": [],
   "source": [
    "import asyncio\n",
    "from autogen_agentchat.agents import AssistantAgent\n",
    "from autogen_ext.models.openai import OpenAIChatCompletionClient\n",
    "from autogen_core.tools import FunctionTool\n",
    "import os\n",
    "from dotenv import load_dotenv\n",
    "load_dotenv()\n",
    "api_key = os.getenv(\"GOOGLE_API_KEY\")"
   ]
  },
  {
   "cell_type": "code",
   "execution_count": 3,
   "id": "960eb0ae",
   "metadata": {},
   "outputs": [],
   "source": [
    "model_client=OpenAIChatCompletionClient(model=\"gemini-2.0-flash\",api_key=api_key)\n",
    "\n",
    "def reverse_string(text: str) -> str:\n",
    "    '''\n",
    "    Reverse the given text\n",
    "\n",
    "    input:str\n",
    "\n",
    "    output:str\n",
    "\n",
    "    The reverse string is returned.\n",
    "    '''\n",
    "    return text[::-1]"
   ]
  },
  {
   "cell_type": "code",
   "execution_count": 4,
   "id": "b24add50",
   "metadata": {},
   "outputs": [],
   "source": [
    "reverse_tool = FunctionTool(reverse_string,description='A tool to reverse a string')"
   ]
  },
  {
   "cell_type": "code",
   "execution_count": null,
   "id": "3c68c296",
   "metadata": {},
   "outputs": [],
   "source": [
    "agent = AssistantAgent(\n",
    "    name=\"ReverseStringAgent\",\n",
    "    model_client=model_client,\n",
    "    tools=[reverse_tool],\n",
    "    system_message='You are a helpful assistant that can reverse string using reverse_string tool. Give the result with summary',\n",
    ")"
   ]
  },
  {
   "cell_type": "code",
   "execution_count": null,
   "id": "937e3c6f",
   "metadata": {},
   "outputs": [],
   "source": []
  }
 ],
 "metadata": {
  "kernelspec": {
   "display_name": "venv",
   "language": "python",
   "name": "python3"
  },
  "language_info": {
   "codemirror_mode": {
    "name": "ipython",
    "version": 3
   },
   "file_extension": ".py",
   "mimetype": "text/x-python",
   "name": "python",
   "nbconvert_exporter": "python",
   "pygments_lexer": "ipython3",
   "version": "3.11.1"
  }
 },
 "nbformat": 4,
 "nbformat_minor": 5
}
