{
 "cells": [
  {
   "cell_type": "code",
   "execution_count": 2,
   "id": "93c0eda0",
   "metadata": {},
   "outputs": [],
   "source": [
    "import asyncio\n",
    "from autogen_agentchat.agents import AssistantAgent\n",
    "from autogen_ext.models.openai import OpenAIChatCompletionClient\n",
    "from dotenv import load_dotenv\n",
    "load_dotenv()\n",
    "import os\n",
    "api_key = os.getenv(\"OPENAI_API_KEY\")"
   ]
  },
  {
   "cell_type": "code",
   "execution_count": 3,
   "id": "cfe79b41",
   "metadata": {},
   "outputs": [],
   "source": [
    "model_client = OpenAIChatCompletionClient(model='gpt-4o', api_key=api_key)"
   ]
  },
  {
   "cell_type": "code",
   "execution_count": null,
   "id": "f745a69c",
   "metadata": {},
   "outputs": [],
   "source": [
    "dsa_solver = AssistantAgent(\n",
    "    name = 'Complex_DSA_Solver',\n",
    "    model_client=model_client,\n",
    "    description='A DSA solver',\n",
    "    system_message=\"You give code in python to solve complex DSA problems. Give under 100 words.\"\n",
    ")\n",
    "\n",
    "code_reviewer = AssistantAgent(\n",
    "    name = 'CODE_REVIEWER',\n",
    "    model_client=model_client,\n",
    "    description='A Code Reviewer',\n",
    "    system_message=\"You review the code given by the complex_dsa_solver and make sure it is optimized.Give under 10 words. If you feel that the code is fine, please say 'TERMINATE'\"\n",
    ")\n",
    "\n",
    "code_editor = AssistantAgent(\n",
    "    name = 'CODE_EDITOR',\n",
    "    model_client=model_client,\n",
    "    description='A Code editor',\n",
    "    system_message=\"You make the code easy to understand and add comments wherever required. If no updates then just say 'TERMINATE' \"\n",
    ")"
   ]
  },
  {
   "cell_type": "code",
   "execution_count": 10,
   "id": "ca5ed0a3",
   "metadata": {},
   "outputs": [],
   "source": [
    "from autogen_agentchat.teams import RoundRobinGroupChat\n",
    "from autogen_agentchat.messages import TextMessage\n",
    "from autogen_agentchat.conditions import ExternalTermination, TextMentionTermination\n",
    "\n",
    "team = RoundRobinGroupChat(\n",
    "    participants=[dsa_solver,code_reviewer,code_editor],\n",
    "    max_turns=15\n",
    ")"
   ]
  },
  {
   "cell_type": "code",
   "execution_count": 8,
   "id": "ac86c23a",
   "metadata": {},
   "outputs": [
    {
     "name": "stdout",
     "output_type": "stream",
     "text": [
      "messages=[TextMessage(id='9b7d75fa-dca8-4d42-b3f4-e524c7296da1', source='User', models_usage=None, metadata={}, created_at=datetime.datetime(2025, 8, 18, 10, 23, 1, 368215, tzinfo=datetime.timezone.utc), content='Write a simple code in python to add 2 numbers', type='TextMessage'), TextMessage(id='bc361ae5-4da4-461d-bf9b-f57d2f519d88', source='Complex_DSA_Solver', models_usage=RequestUsage(prompt_tokens=42, completion_tokens=82), metadata={}, created_at=datetime.datetime(2025, 8, 18, 10, 23, 6, 18256, tzinfo=datetime.timezone.utc), content='Sure! Here\\'s a simple code snippet to add two numbers in Python:\\n\\n```python\\ndef add_numbers(a, b):\\n    return a + b\\n\\n# Example usage\\nnum1 = 5\\nnum2 = 3\\nresult = add_numbers(num1, num2)\\nprint(\"Sum:\", result)\\n```\\n\\nThis code defines a function `add_numbers` that takes two arguments and returns their sum.', type='TextMessage'), TextMessage(id='4b64069c-d1df-4a6f-9ce0-7c20eccdb874', source='CODE_REVIEWER', models_usage=RequestUsage(prompt_tokens=156, completion_tokens=3), metadata={}, created_at=datetime.datetime(2025, 8, 18, 10, 23, 17, 353223, tzinfo=datetime.timezone.utc), content='TERMINATE', type='TextMessage'), TextMessage(id='9c10cf67-983b-4a40-b5ee-43541edc0f36', source='CODE_EDITOR', models_usage=RequestUsage(prompt_tokens=146, completion_tokens=12), metadata={}, created_at=datetime.datetime(2025, 8, 18, 10, 23, 20, 245025, tzinfo=datetime.timezone.utc), content='Understood. Let me know if you need anything else!', type='TextMessage'), TextMessage(id='f098ab91-0dcf-4283-9695-f4fcaa75a51b', source='Complex_DSA_Solver', models_usage=RequestUsage(prompt_tokens=159, completion_tokens=12), metadata={}, created_at=datetime.datetime(2025, 8, 18, 10, 23, 22, 90313, tzinfo=datetime.timezone.utc), content='Alright, feel free to ask if you need any assistance!', type='TextMessage'), TextMessage(id='65706fc4-bc63-4312-862a-2a2071d8b996', source='CODE_REVIEWER', models_usage=RequestUsage(prompt_tokens=204, completion_tokens=3), metadata={}, created_at=datetime.datetime(2025, 8, 18, 10, 23, 24, 751726, tzinfo=datetime.timezone.utc), content='TERMINATE', type='TextMessage'), TextMessage(id='82f362bb-97a3-4a24-9aac-8ff84349225c', source='CODE_EDITOR', models_usage=RequestUsage(prompt_tokens=196, completion_tokens=8), metadata={}, created_at=datetime.datetime(2025, 8, 18, 10, 23, 25, 568860, tzinfo=datetime.timezone.utc), content='Understood. Have a great day!', type='TextMessage'), TextMessage(id='e1c51b83-e58d-4ccf-8fd8-c2e57c2bca6b', source='Complex_DSA_Solver', models_usage=RequestUsage(prompt_tokens=202, completion_tokens=17), metadata={}, created_at=datetime.datetime(2025, 8, 18, 10, 23, 27, 488615, tzinfo=datetime.timezone.utc), content='Take care, and feel free to reach out if you need help in the future!', type='TextMessage'), TextMessage(id='4cb1705c-4ce3-4446-9fcf-61341ea0b206', source='CODE_REVIEWER', models_usage=RequestUsage(prompt_tokens=253, completion_tokens=3), metadata={}, created_at=datetime.datetime(2025, 8, 18, 10, 23, 29, 48476, tzinfo=datetime.timezone.utc), content='TERMINATE', type='TextMessage'), TextMessage(id='45db81d1-1877-4bed-b017-54ea3d661da0', source='CODE_EDITOR', models_usage=RequestUsage(prompt_tokens=247, completion_tokens=5), metadata={}, created_at=datetime.datetime(2025, 8, 18, 10, 23, 30, 578609, tzinfo=datetime.timezone.utc), content='Session ended. Goodbye!', type='TextMessage'), TextMessage(id='df9f5c2c-9191-4afa-b519-77d4f63c5f4f', source='Complex_DSA_Solver', models_usage=RequestUsage(prompt_tokens=247, completion_tokens=5), metadata={}, created_at=datetime.datetime(2025, 8, 18, 10, 23, 31, 508549, tzinfo=datetime.timezone.utc), content='Session ended. Goodbye!', type='TextMessage'), TextMessage(id='32e061b7-56e2-4281-bf73-aa0d0e314a73', source='CODE_REVIEWER', models_usage=RequestUsage(prompt_tokens=287, completion_tokens=3), metadata={}, created_at=datetime.datetime(2025, 8, 18, 10, 23, 32, 283817, tzinfo=datetime.timezone.utc), content='TERMINATE', type='TextMessage'), TextMessage(id='0de9e9af-a4ab-4cde-8040-f4732c4c8911', source='CODE_EDITOR', models_usage=RequestUsage(prompt_tokens=283, completion_tokens=5), metadata={}, created_at=datetime.datetime(2025, 8, 18, 10, 23, 33, 143492, tzinfo=datetime.timezone.utc), content='Session terminated. Goodbye!', type='TextMessage'), TextMessage(id='89681d9d-df65-4397-94aa-ba720f5acdaa', source='Complex_DSA_Solver', models_usage=RequestUsage(prompt_tokens=280, completion_tokens=5), metadata={}, created_at=datetime.datetime(2025, 8, 18, 10, 23, 34, 271164, tzinfo=datetime.timezone.utc), content='Session terminated. Goodbye!', type='TextMessage'), TextMessage(id='94fc7bce-4ddd-4697-adb8-ed639a445a89', source='CODE_REVIEWER', models_usage=RequestUsage(prompt_tokens=321, completion_tokens=3), metadata={}, created_at=datetime.datetime(2025, 8, 18, 10, 23, 35, 190254, tzinfo=datetime.timezone.utc), content='TERMINATE', type='TextMessage'), TextMessage(id='b29d0aca-59ce-4088-979c-9b8a56cf0642', source='CODE_EDITOR', models_usage=RequestUsage(prompt_tokens=319, completion_tokens=5), metadata={}, created_at=datetime.datetime(2025, 8, 18, 10, 23, 35, 809663, tzinfo=datetime.timezone.utc), content='Session terminated. Goodbye!', type='TextMessage')] stop_reason='Maximum number of turns 15 reached.'\n"
     ]
    }
   ],
   "source": [
    "async def run_team():\n",
    "    text = TextMessage(content='Write a simple code in python to add 2 numbers',source='User')\n",
    "    \n",
    "    result = await team.run(task=text)\n",
    "    print(result)\n",
    "    \n",
    "await run_team()"
   ]
  },
  {
   "cell_type": "markdown",
   "id": "3013eda0",
   "metadata": {},
   "source": [
    "#### Above output for understanding\n",
    "\n",
    "messages=\n",
    "\n",
    "[TextMessage(id='9b7d75fa-dca8-4d42-b3f4-e524c7296da1', source='User', models_usage=None, metadata={}, created_at=datetime.datetime(2025, 8, 18, 10, 23, 1, 368215, tzinfo=datetime.timezone.utc), content='Write a simple code in python to add 2 numbers', type='TextMessage'), \n",
    "\n",
    "TextMessage(id='bc361ae5-4da4-461d-bf9b-f57d2f519d88', source='Complex_DSA_Solver', models_usage=RequestUsage(prompt_tokens=42, completion_tokens=82), metadata={}, created_at=datetime.datetime(2025, 8, 18, 10, 23, 6, 18256, tzinfo=datetime.timezone.utc), content='Sure! Here\\'s a simple code snippet to add two numbers in Python:\\n\\n```python\\ndef add_numbers(a, b):\\n    return a + b\\n\\n# Example usage\\nnum1 = 5\\nnum2 = 3\\nresult = add_numbers(num1, num2)\\nprint(\"Sum:\", result)\\n```\\n\\nThis code defines a function `add_numbers` that takes two arguments and returns their sum.', type='TextMessage'), \n",
    "\n",
    "TextMessage(id='4b64069c-d1df-4a6f-9ce0-7c20eccdb874', source='CODE_REVIEWER', models_usage=RequestUsage(prompt_tokens=156, completion_tokens=3), metadata={}, created_at=datetime.datetime(2025, 8, 18, 10, 23, 17, 353223, tzinfo=datetime.timezone.utc), content='TERMINATE', type='TextMessage'), \n",
    "\n",
    "TextMessage(id='9c10cf67-983b-4a40-b5ee-43541edc0f36', source='CODE_EDITOR', models_usage=RequestUsage(prompt_tokens=146, completion_tokens=12), metadata={}, created_at=datetime.datetime(2025, 8, 18, 10, 23, 20, 245025, tzinfo=datetime.timezone.utc), content='Understood. Let me know if you need anything else!', type='TextMessage'), \n",
    "\n",
    "TextMessage(id='f098ab91-0dcf-4283-9695-f4fcaa75a51b', source='Complex_DSA_Solver', models_usage=RequestUsage(prompt_tokens=159, completion_tokens=12), metadata={}, created_at=datetime.datetime(2025, 8, 18, 10, 23, 22, 90313, tzinfo=datetime.timezone.utc), content='Alright, feel free to ask if you need any assistance!', type='TextMessage'), \n",
    "\n",
    "TextMessage(id='65706fc4-bc63-4312-862a-2a2071d8b996', source='CODE_REVIEWER', models_usage=RequestUsage(prompt_tokens=204, completion_tokens=3), metadata={}, created_at=datetime.datetime(2025, 8, 18, 10, 23, 24, 751726, tzinfo=datetime.timezone.utc), content='TERMINATE', type='TextMessage'), \n",
    "\n",
    "TextMessage(id='82f362bb-97a3-4a24-9aac-8ff84349225c', source='CODE_EDITOR', models_usage=RequestUsage(prompt_tokens=196, completion_tokens=8), metadata={}, created_at=datetime.datetime(2025, 8, 18, 10, 23, 25, 568860, tzinfo=datetime.timezone.utc), content='Understood. Have a great day!', type='TextMessage'), \n",
    "\n",
    "TextMessage(id='e1c51b83-e58d-4ccf-8fd8-c2e57c2bca6b', source='Complex_DSA_Solver', models_usage=RequestUsage(prompt_tokens=202, completion_tokens=17), metadata={}, created_at=datetime.datetime(2025, 8, 18, 10, 23, 27, 488615, tzinfo=datetime.timezone.utc), content='Take care, and feel free to reach out if you need help in the future!', type='TextMessage'), \n",
    "\n",
    "TextMessage(id='4cb1705c-4ce3-4446-9fcf-61341ea0b206', source='CODE_REVIEWER', models_usage=RequestUsage(prompt_tokens=253, completion_tokens=3), metadata={}, created_at=datetime.datetime(2025, 8, 18, 10, 23, 29, 48476, tzinfo=datetime.timezone.utc), content='TERMINATE', type='TextMessage'), \n",
    "\n",
    "TextMessage(id='45db81d1-1877-4bed-b017-54ea3d661da0', source='CODE_EDITOR', models_usage=RequestUsage(prompt_tokens=247, completion_tokens=5), metadata={}, created_at=datetime.datetime(2025, 8, 18, 10, 23, 30, 578609, tzinfo=datetime.timezone.utc), content='Session ended. Goodbye!', type='TextMessage'), \n",
    "\n",
    "TextMessage(id='df9f5c2c-9191-4afa-b519-77d4f63c5f4f', source='Complex_DSA_Solver', models_usage=RequestUsage(prompt_tokens=247, completion_tokens=5), metadata={}, created_at=datetime.datetime(2025, 8, 18, 10, 23, 31, 508549, tzinfo=datetime.timezone.utc), content='Session ended. Goodbye!', type='TextMessage'), \n",
    "\n",
    "TextMessage(id='32e061b7-56e2-4281-bf73-aa0d0e314a73', source='CODE_REVIEWER', models_usage=RequestUsage(prompt_tokens=287, completion_tokens=3), metadata={}, created_at=datetime.datetime(2025, 8, 18, 10, 23, 32, 283817, tzinfo=datetime.timezone.utc), content='TERMINATE', type='TextMessage'), \n",
    "\n",
    "TextMessage(id='0de9e9af-a4ab-4cde-8040-f4732c4c8911', source='CODE_EDITOR', models_usage=RequestUsage(prompt_tokens=283, completion_tokens=5), metadata={}, created_at=datetime.datetime(2025, 8, 18, 10, 23, 33, 143492, tzinfo=datetime.timezone.utc), content='Session terminated. Goodbye!', type='TextMessage'), \n",
    "\n",
    "TextMessage(id='89681d9d-df65-4397-94aa-ba720f5acdaa', source='Complex_DSA_Solver', models_usage=RequestUsage(prompt_tokens=280, completion_tokens=5), metadata={}, created_at=datetime.datetime(2025, 8, 18, 10, 23, 34, 271164, tzinfo=datetime.timezone.utc), content='Session terminated. Goodbye!', type='TextMessage'), \n",
    "\n",
    "TextMessage(id='94fc7bce-4ddd-4697-adb8-ed639a445a89', source='CODE_REVIEWER', models_usage=RequestUsage(prompt_tokens=321, completion_tokens=3), metadata={}, created_at=datetime.datetime(2025, 8, 18, 10, 23, 35, 190254, tzinfo=datetime.timezone.utc), content='TERMINATE', type='TextMessage'), \n",
    "\n",
    "TextMessage(id='b29d0aca-59ce-4088-979c-9b8a56cf0642', source='CODE_EDITOR', models_usage=RequestUsage(prompt_tokens=319, completion_tokens=5), metadata={}, created_at=datetime.datetime(2025, 8, 18, 10, 23, 35, 809663, tzinfo=datetime.timezone.utc), content='Session terminated. Goodbye!', type='TextMessage')] stop_reason='Maximum number of turns 15 reached.'"
   ]
  },
  {
   "cell_type": "code",
   "execution_count": null,
   "id": "44079afd",
   "metadata": {},
   "outputs": [],
   "source": [
    "# With termination condition \n",
    "\n",
    "text_termination = TextMentionTermination('TERMINATE')\n",
    "\n",
    "team1 = RoundRobinGroupChat(\n",
    "    participants=[dsa_solver,code_reviewer,code_editor],\n",
    "    max_turns=15,\n",
    "    termination_condition=text_termination # Termination condition for whole team\n",
    ")"
   ]
  },
  {
   "cell_type": "code",
   "execution_count": 12,
   "id": "6b7f00a3",
   "metadata": {},
   "outputs": [
    {
     "name": "stdout",
     "output_type": "stream",
     "text": [
      "messages=[TextMessage(id='8d9a7e91-fac0-4b45-828f-aeaa10f666ba', source='User', models_usage=None, metadata={}, created_at=datetime.datetime(2025, 8, 18, 10, 34, 59, 16995, tzinfo=datetime.timezone.utc), content='Write a simple code in python to add 2 numbers', type='TextMessage'), TextMessage(id='593720f5-7e3e-463f-8e49-947cd72bcc36', source='Complex_DSA_Solver', models_usage=RequestUsage(prompt_tokens=306, completion_tokens=80), metadata={}, created_at=datetime.datetime(2025, 8, 18, 10, 35, 0, 248340, tzinfo=datetime.timezone.utc), content='Sure! Here\\'s a simple Python code to add two numbers:\\n\\n```python\\ndef add_numbers(a, b):\\n    return a + b\\n\\n# Example usage\\nnum1 = 5\\nnum2 = 7\\nresult = add_numbers(num1, num2)\\nprint(\"Sum:\", result)\\n```\\n\\nThis code defines a function `add_numbers` that takes two arguments and returns their sum.', type='TextMessage'), TextMessage(id='b13c1117-7a31-40cb-87ce-b26ffb68d741', source='CODE_REVIEWER', models_usage=RequestUsage(prompt_tokens=435, completion_tokens=3), metadata={}, created_at=datetime.datetime(2025, 8, 18, 10, 35, 1, 277437, tzinfo=datetime.timezone.utc), content='TERMINATE', type='TextMessage')] stop_reason=\"Text 'TERMINATE' mentioned\"\n"
     ]
    }
   ],
   "source": [
    "async def run_team():\n",
    "    text = TextMessage(content='Write a simple code in python to add 2 numbers',source='User')\n",
    "    \n",
    "    result = await team1.run(task=text)\n",
    "    print(result)\n",
    "    \n",
    "await run_team()"
   ]
  },
  {
   "cell_type": "markdown",
   "id": "b551469c",
   "metadata": {},
   "source": [
    "#### Above output for understanding\n",
    "\n",
    "messages=[\n",
    "    \n",
    "TextMessage(id='8d9a7e91-fac0-4b45-828f-aeaa10f666ba', source='User', models_usage=None, metadata={}, created_at=datetime.datetime(2025, 8, 18, 10, 34, 59, 16995, tzinfo=datetime.timezone.utc), content='Write a simple code in python to add 2 numbers', type='TextMessage'), \n",
    "\n",
    "TextMessage(id='593720f5-7e3e-463f-8e49-947cd72bcc36', source='Complex_DSA_Solver', models_usage=RequestUsage(prompt_tokens=306, completion_tokens=80), metadata={}, created_at=datetime.datetime(2025, 8, 18, 10, 35, 0, 248340, tzinfo=datetime.timezone.utc), content='Sure! Here\\'s a simple Python code to add two numbers:\\n\\n```python\\ndef add_numbers(a, b):\\n    return a + b\\n\\n# Example usage\\nnum1 = 5\\nnum2 = 7\\nresult = add_numbers(num1, num2)\\nprint(\"Sum:\", result)\\n```\\n\\nThis code defines a function `add_numbers` that takes two arguments and returns their sum.', type='TextMessage'), \n",
    "\n",
    "TextMessage(id='b13c1117-7a31-40cb-87ce-b26ffb68d741', source='CODE_REVIEWER', models_usage=RequestUsage(prompt_tokens=435, completion_tokens=3), metadata={}, created_at=datetime.datetime(2025, 8, 18, 10, 35, 1, 277437, tzinfo=datetime.timezone.utc), content='TERMINATE', type='TextMessage')\n",
    "] \n",
    "\n",
    "stop_reason=\"Text 'TERMINATE' mentioned\""
   ]
  },
  {
   "cell_type": "code",
   "execution_count": null,
   "id": "2102bde2",
   "metadata": {},
   "outputs": [],
   "source": []
  },
  {
   "cell_type": "code",
   "execution_count": null,
   "id": "1756652c",
   "metadata": {},
   "outputs": [],
   "source": []
  }
 ],
 "metadata": {
  "kernelspec": {
   "display_name": "venv",
   "language": "python",
   "name": "python3"
  },
  "language_info": {
   "codemirror_mode": {
    "name": "ipython",
    "version": 3
   },
   "file_extension": ".py",
   "mimetype": "text/x-python",
   "name": "python",
   "nbconvert_exporter": "python",
   "pygments_lexer": "ipython3",
   "version": "3.11.1"
  }
 },
 "nbformat": 4,
 "nbformat_minor": 5
}
