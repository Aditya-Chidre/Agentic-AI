{
 "cells": [
  {
   "cell_type": "code",
   "execution_count": 11,
   "id": "38b843d0",
   "metadata": {},
   "outputs": [
    {
     "data": {
      "text/plain": [
       "True"
      ]
     },
     "execution_count": 11,
     "metadata": {},
     "output_type": "execute_result"
    }
   ],
   "source": [
    "from pydantic import BaseModel, Field\n",
    "from langchain_google_genai import ChatGoogleGenerativeAI\n",
    "from langchain.prompts import PromptTemplate\n",
    "from langchain_core.output_parsers import StrOutputParser, JsonOutputParser\n",
    "import os\n",
    "from dotenv import load_dotenv\n",
    "load_dotenv()"
   ]
  },
  {
   "cell_type": "code",
   "execution_count": 2,
   "id": "dd14246d",
   "metadata": {},
   "outputs": [],
   "source": [
    "os.environ[\"GOOGLE_API_KEY\"] = os.getenv(\"GOOGLE_API_KEY\")"
   ]
  },
  {
   "cell_type": "code",
   "execution_count": 18,
   "id": "3501610c",
   "metadata": {},
   "outputs": [],
   "source": [
    "class Info(BaseModel):\n",
    "    '''Gives the information about product'''\n",
    "    name: str = Field(description='Name of the product')\n",
    "    details: str = Field(description='Details of the product')\n",
    "    price: float = Field(description='Price of the product in USD')"
   ]
  },
  {
   "cell_type": "code",
   "execution_count": 19,
   "id": "b1f38a54",
   "metadata": {},
   "outputs": [],
   "source": [
    "llm = ChatGoogleGenerativeAI(\n",
    "    model=\"gemini-2.0-flash\",\n",
    "    temperature=0.9\n",
    ")"
   ]
  },
  {
   "cell_type": "code",
   "execution_count": 29,
   "id": "61bc631b",
   "metadata": {},
   "outputs": [
    {
     "data": {
      "text/plain": [
       "{'name': 'Laptop',\n",
       " 'details': 'A portable computer for work and entertainment.',\n",
       " 'price': 800.0}"
      ]
     },
     "execution_count": 29,
     "metadata": {},
     "output_type": "execute_result"
    }
   ],
   "source": [
    "parser = JsonOutputParser(pydantic_object=Info)\n",
    "# parser = JsonOutputParser()\n",
    "prompt = PromptTemplate(\n",
    "    template=\"Answer the user query \\n {format_instruction}\\n{query} \\n\",\n",
    "    input_variables=[\"query\"],\n",
    "    partial_variables={\"format_instruction\":parser.get_format_instructions()}\n",
    ")\n",
    "\n",
    "chain = prompt | llm | parser\n",
    "a = input()\n",
    "chain.invoke({\"query\":a})"
   ]
  },
  {
   "cell_type": "code",
   "execution_count": 30,
   "id": "f1630b9f",
   "metadata": {},
   "outputs": [
    {
     "data": {
      "text/plain": [
       "RunnableBinding(bound=ChatGoogleGenerativeAI(model='models/gemini-2.0-flash', google_api_key=SecretStr('**********'), temperature=0.9, client=<google.ai.generativelanguage_v1beta.services.generative_service.client.GenerativeServiceClient object at 0x00000244EC653250>, default_metadata=()), kwargs={'tools': [{'type': 'function', 'function': {'name': 'Info', 'description': 'Gives the information about product', 'parameters': {'properties': {'name': {'description': 'Name of the product', 'type': 'string'}, 'details': {'description': 'Details of the product', 'type': 'string'}, 'price': {'description': 'Price of the product in USD', 'type': 'number'}}, 'required': ['name', 'details', 'price'], 'type': 'object'}}}], 'tool_choice': 'Info'}, config={}, config_factories=[])\n",
       "| PydanticToolsParser(first_tool_only=True, tools=[<class '__main__.Info'>])"
      ]
     },
     "execution_count": 30,
     "metadata": {},
     "output_type": "execute_result"
    }
   ],
   "source": [
    "llm.with_structured_output(Info)"
   ]
  },
  {
   "cell_type": "code",
   "execution_count": null,
   "id": "5964ec32",
   "metadata": {},
   "outputs": [],
   "source": []
  }
 ],
 "metadata": {
  "kernelspec": {
   "display_name": "Python 3",
   "language": "python",
   "name": "python3"
  },
  "language_info": {
   "codemirror_mode": {
    "name": "ipython",
    "version": 3
   },
   "file_extension": ".py",
   "mimetype": "text/x-python",
   "name": "python",
   "nbconvert_exporter": "python",
   "pygments_lexer": "ipython3",
   "version": "3.9.5"
  }
 },
 "nbformat": 4,
 "nbformat_minor": 5
}
